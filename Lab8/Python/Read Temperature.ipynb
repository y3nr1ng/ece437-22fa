{
 "cells": [
  {
   "cell_type": "markdown",
   "metadata": {},
   "source": [
    "Definition for the board."
   ]
  },
  {
   "cell_type": "code",
   "execution_count": 1,
   "metadata": {},
   "outputs": [],
   "source": [
    "from ece437.ok import OKFrontPanel\n",
    "\n",
    "path = \"U:\\\\ECE437\\\\Source\\\\Lab5C2_rewrite\\\\Lab5C2.runs\\\\impl_1\\\\lab5_top.bit\"\n",
    "fp = OKFrontPanel(firmware_path=path)"
   ]
  },
  {
   "cell_type": "markdown",
   "metadata": {},
   "source": [
    "Start talking to ADT7420."
   ]
  },
  {
   "cell_type": "code",
   "execution_count": 2,
   "metadata": {},
   "outputs": [
    {
     "name": "stdout",
     "output_type": "stream",
     "text": [
      "serial=1911000P4W\n",
      "26.6250 degC\n",
      "26.5625 degC\n",
      "26.6250 degC\n",
      "26.6250 degC\n",
      "26.6250 degC\n"
     ]
    }
   ],
   "source": [
    "from ece437.presets import I2C_0_ENDPOINTS\n",
    "from ece437.i2c import I2CController\n",
    "from ece437.sensor import ADT7420\n",
    "import time\n",
    "\n",
    "with fp, I2CController(fp, I2C_0_ENDPOINTS) as i2c0, I2CController(fp, I2C_0_ENDPOINTS) as i2c1:\n",
    "    print(f\"serial={fp.serial_number}\")\n",
    "\n",
    "    sensor = ADT7420(i2c0)\n",
    "    try:\n",
    "        for _ in range(5):\n",
    "            temperature = sensor.get_temperature()\n",
    "            print(f\"{temperature:.4f} degC\")\n",
    "            time.sleep(0.25)\n",
    "    except KeyboardInterrupt:\n",
    "        print(\".. Ctrl+C\")\n"
   ]
  }
 ],
 "metadata": {
  "kernelspec": {
   "display_name": "Python 3.6.13 ('ece437')",
   "language": "python",
   "name": "python3"
  },
  "language_info": {
   "codemirror_mode": {
    "name": "ipython",
    "version": 3
   },
   "file_extension": ".py",
   "mimetype": "text/x-python",
   "name": "python",
   "nbconvert_exporter": "python",
   "pygments_lexer": "ipython3",
   "version": "3.6.13"
  },
  "orig_nbformat": 4,
  "vscode": {
   "interpreter": {
    "hash": "ca22d97047fb192b166683963a624a3b1484bf7794bcb26b8860648fa7cb4af4"
   }
  }
 },
 "nbformat": 4,
 "nbformat_minor": 2
}
