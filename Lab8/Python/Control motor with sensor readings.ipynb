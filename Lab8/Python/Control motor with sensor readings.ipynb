{
 "cells": [
  {
   "cell_type": "code",
   "execution_count": 1,
   "metadata": {},
   "outputs": [],
   "source": [
    "import logging\n",
    "\n",
    "logger = logging.getLogger()\n",
    "\n",
    "# format\n",
    "formatter = logging.Formatter('[%(asctime)s] [%(levelname)s] %(message)s')\n",
    "\n",
    "# add stream handler\n",
    "handler = logging.StreamHandler(sys.stdout)                             \n",
    "handler.setFormatter(formatter)\n",
    "logger.addHandler(handler)\n",
    "\n",
    "# enable all logging level\n",
    "logger.setLevel(logging.INFO)"
   ]
  },
  {
   "cell_type": "markdown",
   "metadata": {},
   "source": [
    "Definition for the board."
   ]
  },
  {
   "cell_type": "code",
   "execution_count": 2,
   "metadata": {},
   "outputs": [],
   "source": [
    "from ece437.ok import OKFrontPanel\n",
    "\n",
    "path = \"C:\\\\ytliu2\\\\ECE437\\\\Lab7\\\\Lab7.runs\\\\impl_1\\\\lab7_top.bit\"\n",
    "fp = OKFrontPanel(firmware_path=path)"
   ]
  },
  {
   "cell_type": "markdown",
   "metadata": {},
   "source": [
    "Start control DRV8833 over PMOD port 1."
   ]
  },
  {
   "cell_type": "code",
   "execution_count": 3,
   "metadata": {},
   "outputs": [
    {
     "name": "stdout",
     "output_type": "stream",
     "text": [
      "[2022-10-25 16:51:56,108] [INFO] upload firmware 'C:\\ytliu2\\ECE437\\Lab7\\Lab7.runs\\impl_1\\lab7_top.bit'\n",
      "serial=1911000P3V\n",
      "CRA_REG_M=10011100\n",
      "ACC: x=1.012, y=-0.016, z=-0.036\n",
      "MAG: x=-0.463, y=-0.858, z=0.892\n",
      "ACC: x=1.000, y=-0.016, z=-0.040\n",
      "MAG: x=-0.458, y=-0.861, z=0.893\n",
      "ACC: x=1.000, y=-0.004, z=-0.036\n",
      "MAG: x=-0.467, y=-0.861, z=0.895\n",
      "ACC: x=1.012, y=-0.012, z=-0.040\n",
      "MAG: x=-0.461, y=-0.860, z=0.895\n",
      "ACC: x=1.004, y=-0.024, z=-0.020\n",
      "MAG: x=-0.461, y=-0.861, z=0.893\n",
      "forward\n",
      "[2022-10-25 16:51:57,275] [INFO] control_reg=00000000000000000000000000001010\n",
      "ACC: x=1.004, y=-0.008, z=-0.040\n",
      "MAG: x=-0.461, y=-0.858, z=0.895\n",
      "ACC: x=1.000, y=-0.012, z=-0.036\n",
      "MAG: x=-0.462, y=-0.860, z=0.892\n",
      "ACC: x=0.996, y=-0.004, z=-0.032\n",
      "MAG: x=-0.458, y=-0.857, z=0.896\n",
      "ACC: x=0.992, y=-0.004, z=-0.036\n",
      "MAG: x=-0.461, y=-0.857, z=0.891\n",
      "ACC: x=0.996, y=-0.012, z=-0.032\n",
      "MAG: x=-0.457, y=-0.857, z=0.896\n"
     ]
    }
   ],
   "source": [
    "from ece437.presets import I2C_1_ENDPOINTS\n",
    "from ece437.i2c import I2CController\n",
    "from ece437.sensor import LSM303Accelerometer, LSM303Magnetometer\n",
    "from ece437.pmod import PMOD, PMODType5Endpoints, PMODDirection\n",
    "import time\n",
    "import numpy as np\n",
    "\n",
    "PMOD_1_ENDPOINTS = PMODType5Endpoints(\n",
    "    RESET = 0x00,\n",
    "    CONTROL = 0x03,\n",
    "    TRIGGER_IN = 0x41,\n",
    "    TRIGGER_OUT = 0x60,\n",
    "\n",
    "    RESET_MASK = 2,\n",
    "\n",
    "    START_MASK = 0,\n",
    "    DONE_MASK = 2\n",
    ")\n",
    "\n",
    "with fp:\n",
    "    print(f\"serial={fp.serial_number}\")\n",
    "\n",
    "    with I2CController(fp, I2C_1_ENDPOINTS) as i2c1:\n",
    "        acc = LSM303Accelerometer(i2c1)\n",
    "        acc.configure() # defaults\n",
    "\n",
    "        mag = LSM303Magnetometer(i2c1)\n",
    "        mag.configure() # defaults\n",
    "        \n",
    "        acc_history = []\n",
    "        mag_history = []\n",
    "\n",
    "        with PMOD(fp, PMOD_1_ENDPOINTS) as pmod:\n",
    "            for _ in range(5):\n",
    "                x, y, z = acc.read()\n",
    "                print(f'ACC: x={x:.03f}, y={y:.03f}, z={z:.03f}')\n",
    "\n",
    "                x, y, z = mag.read()\n",
    "                print(f'MAG: x={x:.03f}, y={y:.03f}, z={z:.03f}')    \n",
    "\n",
    "            print('forward')\n",
    "            pmod.start(10, PMODDirection.Forward)\n",
    "\n",
    "            for _ in range(5):\n",
    "                x, y, z = acc.read()\n",
    "                print(f'ACC: x={x:.03f}, y={y:.03f}, z={z:.03f}')\n",
    "                acc_history.append((x, y, z))\n",
    "\n",
    "                x, y, z = mag.read()\n",
    "                print(f'MAG: x={x:.03f}, y={y:.03f}, z={z:.03f}')    \n",
    "                mag_history.append((x, y, z))\n",
    "        \n",
    "        acc_history = np.array(acc_history)\n",
    "        mag_history = np.array(mag_history)"
   ]
  },
  {
   "cell_type": "code",
   "execution_count": 4,
   "metadata": {},
   "outputs": [
    {
     "name": "stdout",
     "output_type": "stream",
     "text": [
      "acc_mean\n",
      "[0.9976 0.008  0.0352]\n",
      "acc_max\n",
      "[1.004 0.012 0.04 ]\n"
     ]
    }
   ],
   "source": [
    "print('acc_mean')\n",
    "print(abs(acc_history).mean(axis=0))\n",
    "print('acc_max')\n",
    "print(abs(acc_history).max(axis=0))\n"
   ]
  },
  {
   "cell_type": "code",
   "execution_count": null,
   "metadata": {},
   "outputs": [],
   "source": []
  }
 ],
 "metadata": {
  "kernelspec": {
   "display_name": "Python 3.6.13 ('ece437')",
   "language": "python",
   "name": "python3"
  },
  "language_info": {
   "codemirror_mode": {
    "name": "ipython",
    "version": 3
   },
   "file_extension": ".py",
   "mimetype": "text/x-python",
   "name": "python",
   "nbconvert_exporter": "python",
   "pygments_lexer": "ipython3",
   "version": "3.6.13"
  },
  "orig_nbformat": 4,
  "vscode": {
   "interpreter": {
    "hash": "c0795019bdcfb1e9ca0354a5177e3fd16cf4a3e7f7c298fc5362189d5f7812d8"
   }
  }
 },
 "nbformat": 4,
 "nbformat_minor": 2
}
