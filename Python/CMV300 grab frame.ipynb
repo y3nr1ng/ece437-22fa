{
 "cells": [
  {
   "cell_type": "code",
   "execution_count": 1,
   "metadata": {},
   "outputs": [],
   "source": [
    "import logging\n",
    "\n",
    "logger = logging.getLogger()\n",
    "logger.handlers.clear()\n",
    "\n",
    "# format\n",
    "formatter = logging.Formatter('[%(asctime)s] [%(levelname)s] %(message)s')\n",
    "\n",
    "# add stream handler\n",
    "handler = logging.StreamHandler(sys.stdout)                             \n",
    "handler.setFormatter(formatter)\n",
    "logger.addHandler(handler)\n",
    "\n",
    "# enable all logging level\n",
    "logger.setLevel(logging.INFO)"
   ]
  },
  {
   "cell_type": "code",
   "execution_count": 2,
   "metadata": {},
   "outputs": [],
   "source": [
    "import os\n",
    "os.environ['OKFP_ROOT'] = 'C:/Users/sean9/Downloads/FrontPanelUSB'"
   ]
  },
  {
   "cell_type": "markdown",
   "metadata": {},
   "source": [
    "Definition for the board."
   ]
  },
  {
   "cell_type": "code",
   "execution_count": 3,
   "metadata": {},
   "outputs": [],
   "source": [
    "from ece437.ok import OKFrontPanel\n",
    "\n",
    "path = \"C:/Users/sean9/ECE437/Final/Final.runs/impl_1/final_top.bit\"\n",
    "fp = OKFrontPanel(firmware_path=path)"
   ]
  },
  {
   "cell_type": "markdown",
   "metadata": {},
   "source": [
    "Start talking to CMV300."
   ]
  },
  {
   "cell_type": "code",
   "execution_count": 4,
   "metadata": {},
   "outputs": [],
   "source": [
    "from ece437.spi import SPIControllerEndpoints\n",
    "from ece437.sensor.cmv300 import CMV300Endpoints\n",
    "\n",
    "SPI_ENDPOINTS = SPIControllerEndpoints(\n",
    "    RESET = 0x00,\n",
    "    DATA_IN = 0x01,\n",
    "    DATA_OUT = 0x20,\n",
    "    TRIGGER_IN = 0x40,\n",
    "    TRIGGER_OUT = 0x60,\n",
    "\n",
    "    RESET_MASK = 0,\n",
    "\n",
    "    START_MASK = 0,\n",
    "    MEM_RESET_MASK = 1,\n",
    "    MEM_WRITE_MASK = 2,\n",
    "    MEM_READ_MASK = 3,\n",
    "\n",
    "    DONE_MASK = 0\n",
    ")\n",
    "\n",
    "CMV300_ENDPOINTS = CMV300Endpoints(\n",
    "    RESET = 0x00,\n",
    "    TRIGGER_IN = 0x41,\n",
    "    TRIGGER_OUT = 0x61,\n",
    "    PIPE = 0xA0,\n",
    "\n",
    "    RESET_MASK = 1,\n",
    "\n",
    "    START_MASK = 0,\n",
    "\n",
    "    READY_MASK = 0,\n",
    "    DONE_MASK = 1\n",
    ")"
   ]
  },
  {
   "cell_type": "code",
   "execution_count": 5,
   "metadata": {},
   "outputs": [
    {
     "ename": "RuntimeError",
     "evalue": "non-descriptive failure",
     "output_type": "error",
     "traceback": [
      "\u001b[1;31m---------------------------------------------------------------------------\u001b[0m",
      "\u001b[1;31mRuntimeError\u001b[0m                              Traceback (most recent call last)",
      "\u001b[1;32m<ipython-input-5-3443c9bd01e1>\u001b[0m in \u001b[0;36m<module>\u001b[1;34m\u001b[0m\n\u001b[0;32m      8\u001b[0m \u001b[0mcamera\u001b[0m \u001b[1;33m=\u001b[0m \u001b[0mCMV300\u001b[0m\u001b[1;33m(\u001b[0m\u001b[0mfp\u001b[0m\u001b[1;33m,\u001b[0m \u001b[0mspi\u001b[0m\u001b[1;33m,\u001b[0m \u001b[0mCMV300_ENDPOINTS\u001b[0m\u001b[1;33m)\u001b[0m\u001b[1;33m\u001b[0m\u001b[1;33m\u001b[0m\u001b[0m\n\u001b[0;32m      9\u001b[0m \u001b[1;33m\u001b[0m\u001b[0m\n\u001b[1;32m---> 10\u001b[1;33m \u001b[1;32mwith\u001b[0m \u001b[0mfp\u001b[0m\u001b[1;33m,\u001b[0m \u001b[0mspi\u001b[0m\u001b[1;33m,\u001b[0m \u001b[0mcamera\u001b[0m\u001b[1;33m:\u001b[0m\u001b[1;33m\u001b[0m\u001b[1;33m\u001b[0m\u001b[0m\n\u001b[0m\u001b[0;32m     11\u001b[0m     \u001b[0mlogger\u001b[0m\u001b[1;33m.\u001b[0m\u001b[0minfo\u001b[0m\u001b[1;33m(\u001b[0m\u001b[1;34mf\"serial={fp.serial_number}\"\u001b[0m\u001b[1;33m)\u001b[0m\u001b[1;33m\u001b[0m\u001b[1;33m\u001b[0m\u001b[0m\n\u001b[0;32m     12\u001b[0m \u001b[1;33m\u001b[0m\u001b[0m\n",
      "\u001b[1;32mc:\\users\\sean9\\ece437\\python\\ece437\\src\\ece437\\ok.py\u001b[0m in \u001b[0;36m__enter__\u001b[1;34m(self)\u001b[0m\n\u001b[0;32m     16\u001b[0m     \u001b[1;32mdef\u001b[0m \u001b[0m__enter__\u001b[0m\u001b[1;33m(\u001b[0m\u001b[0mself\u001b[0m\u001b[1;33m)\u001b[0m\u001b[1;33m:\u001b[0m\u001b[1;33m\u001b[0m\u001b[1;33m\u001b[0m\u001b[0m\n\u001b[0;32m     17\u001b[0m         \u001b[0mself\u001b[0m\u001b[1;33m.\u001b[0m\u001b[0m_device\u001b[0m \u001b[1;33m=\u001b[0m \u001b[0mok\u001b[0m\u001b[1;33m.\u001b[0m\u001b[0mokCFrontPanel\u001b[0m\u001b[1;33m(\u001b[0m\u001b[1;33m)\u001b[0m\u001b[1;33m\u001b[0m\u001b[1;33m\u001b[0m\u001b[0m\n\u001b[1;32m---> 18\u001b[1;33m         \u001b[0mself\u001b[0m\u001b[1;33m.\u001b[0m\u001b[0mopen\u001b[0m\u001b[1;33m(\u001b[0m\u001b[1;33m)\u001b[0m\u001b[1;33m\u001b[0m\u001b[1;33m\u001b[0m\u001b[0m\n\u001b[0m\u001b[0;32m     19\u001b[0m \u001b[1;33m\u001b[0m\u001b[0m\n\u001b[0;32m     20\u001b[0m         \u001b[1;32mreturn\u001b[0m \u001b[0mself\u001b[0m\u001b[1;33m\u001b[0m\u001b[1;33m\u001b[0m\u001b[0m\n",
      "\u001b[1;32mc:\\users\\sean9\\ece437\\python\\ece437\\src\\ece437\\ok.py\u001b[0m in \u001b[0;36mopen\u001b[1;34m(self)\u001b[0m\n\u001b[0;32m     40\u001b[0m             \u001b[1;32mraise\u001b[0m \u001b[0mRuntimeError\u001b[0m\u001b[1;33m(\u001b[0m\u001b[1;34m\"please wrap the class with context statement\"\u001b[0m\u001b[1;33m)\u001b[0m\u001b[1;33m\u001b[0m\u001b[1;33m\u001b[0m\u001b[0m\n\u001b[0;32m     41\u001b[0m         \u001b[0mstatus\u001b[0m \u001b[1;33m=\u001b[0m \u001b[0mself\u001b[0m\u001b[1;33m.\u001b[0m\u001b[0m_device\u001b[0m\u001b[1;33m.\u001b[0m\u001b[0mOpenBySerial\u001b[0m\u001b[1;33m(\u001b[0m\u001b[0mself\u001b[0m\u001b[1;33m.\u001b[0m\u001b[0m_serial\u001b[0m\u001b[1;33m)\u001b[0m\u001b[1;33m\u001b[0m\u001b[1;33m\u001b[0m\u001b[0m\n\u001b[1;32m---> 42\u001b[1;33m         \u001b[0mself\u001b[0m\u001b[1;33m.\u001b[0m\u001b[0mparse_error_code\u001b[0m\u001b[1;33m(\u001b[0m\u001b[0mstatus\u001b[0m\u001b[1;33m)\u001b[0m\u001b[1;33m\u001b[0m\u001b[1;33m\u001b[0m\u001b[0m\n\u001b[0m\u001b[0;32m     43\u001b[0m \u001b[1;33m\u001b[0m\u001b[0m\n\u001b[0;32m     44\u001b[0m         \u001b[1;32mif\u001b[0m \u001b[0mself\u001b[0m\u001b[1;33m.\u001b[0m\u001b[0m_firmware_path\u001b[0m \u001b[1;32mis\u001b[0m \u001b[1;32mnot\u001b[0m \u001b[1;32mNone\u001b[0m\u001b[1;33m:\u001b[0m\u001b[1;33m\u001b[0m\u001b[1;33m\u001b[0m\u001b[0m\n",
      "\u001b[1;32mc:\\users\\sean9\\ece437\\python\\ece437\\src\\ece437\\ok.py\u001b[0m in \u001b[0;36mparse_error_code\u001b[1;34m(code)\u001b[0m\n\u001b[0;32m     67\u001b[0m         \u001b[0mklass\u001b[0m\u001b[1;33m,\u001b[0m \u001b[0mmessage\u001b[0m \u001b[1;33m=\u001b[0m \u001b[0mlut\u001b[0m\u001b[1;33m.\u001b[0m\u001b[0mget\u001b[0m\u001b[1;33m(\u001b[0m\u001b[0mcode\u001b[0m\u001b[1;33m,\u001b[0m \u001b[1;33m(\u001b[0m\u001b[0mRuntimeError\u001b[0m\u001b[1;33m,\u001b[0m \u001b[1;34mf'unknown error code ({code})'\u001b[0m\u001b[1;33m)\u001b[0m\u001b[1;33m)\u001b[0m\u001b[1;33m\u001b[0m\u001b[1;33m\u001b[0m\u001b[0m\n\u001b[0;32m     68\u001b[0m         \u001b[1;32mif\u001b[0m \u001b[0mklass\u001b[0m\u001b[1;33m:\u001b[0m\u001b[1;33m\u001b[0m\u001b[1;33m\u001b[0m\u001b[0m\n\u001b[1;32m---> 69\u001b[1;33m             \u001b[1;32mraise\u001b[0m \u001b[0mklass\u001b[0m\u001b[1;33m(\u001b[0m\u001b[0mmessage\u001b[0m\u001b[1;33m)\u001b[0m\u001b[1;33m\u001b[0m\u001b[1;33m\u001b[0m\u001b[0m\n\u001b[0m",
      "\u001b[1;31mRuntimeError\u001b[0m: non-descriptive failure"
     ]
    }
   ],
   "source": [
    "from ece437.spi import SPIController\n",
    "from ece437.sensor.cmv300 import CMV300\n",
    "import matplotlib.pyplot as plt\n",
    "import time\n",
    "import numpy as np\n",
    "\n",
    "spi = SPIController(fp, SPI_ENDPOINTS)\n",
    "camera = CMV300(fp, spi, CMV300_ENDPOINTS)\n",
    "\n",
    "with fp, spi, camera:\n",
    "    logger.info(f\"serial={fp.serial_number}\")\n",
    "\n",
    "    im = camera.get_image()\n",
    "        \n",
    "    fig, ax = plt.subplots(1, 1)\n",
    "    ax.imshow(im, cmap='gray')\n",
    "    ax.axis('tight')\n",
    "    plt.show()"
   ]
  },
  {
   "cell_type": "code",
   "execution_count": null,
   "metadata": {},
   "outputs": [],
   "source": []
  }
 ],
 "metadata": {
  "kernelspec": {
   "display_name": "ece437",
   "language": "python",
   "name": "python3"
  },
  "language_info": {
   "codemirror_mode": {
    "name": "ipython",
    "version": 3
   },
   "file_extension": ".py",
   "mimetype": "text/x-python",
   "name": "python",
   "nbconvert_exporter": "python",
   "pygments_lexer": "ipython3",
   "version": "3.6.13"
  },
  "orig_nbformat": 4,
  "vscode": {
   "interpreter": {
    "hash": "ee34003efc2503a67c52c89b2fdb3d796742a94265386e2683a8bfa66ae2ae5e"
   }
  }
 },
 "nbformat": 4,
 "nbformat_minor": 2
}
