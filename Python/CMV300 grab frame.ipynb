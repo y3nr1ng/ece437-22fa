{
 "cells": [
  {
   "cell_type": "code",
   "execution_count": 1,
   "metadata": {},
   "outputs": [],
   "source": [
    "import logging\n",
    "\n",
    "logger = logging.getLogger()\n",
    "logger.handlers.clear()\n",
    "\n",
    "# format\n",
    "formatter = logging.Formatter('[%(asctime)s] [%(levelname)s] %(message)s')\n",
    "\n",
    "# add stream handler\n",
    "handler = logging.StreamHandler(sys.stdout)                             \n",
    "handler.setFormatter(formatter)\n",
    "logger.addHandler(handler)\n",
    "\n",
    "# enable all logging level\n",
    "logger.setLevel(logging.INFO)"
   ]
  },
  {
   "cell_type": "markdown",
   "metadata": {},
   "source": [
    "Definition for the board."
   ]
  },
  {
   "cell_type": "code",
   "execution_count": 2,
   "metadata": {},
   "outputs": [],
   "source": [
    "from ece437.ok import OKFrontPanel\n",
    "\n",
    "path = \"C:\\\\ytliu2\\\\ECE437\\\\Lab9\\\\Lab9.runs\\\\impl_1\\\\lab9_top.bit\"\n",
    "fp = OKFrontPanel(firmware_path=path)"
   ]
  },
  {
   "cell_type": "markdown",
   "metadata": {},
   "source": [
    "Start talking to CMV300."
   ]
  },
  {
   "cell_type": "code",
   "execution_count": 3,
   "metadata": {},
   "outputs": [],
   "source": [
    "from ece437.spi import SPIControllerEndpoints\n",
    "\n",
    "SPI_ENDPOINTS = SPIControllerEndpoints(\n",
    "    RESET = 0x00,\n",
    "    DATA_IN = 0x01,\n",
    "    DATA_OUT = 0x20,\n",
    "    TRIGGER_IN = 0x40,\n",
    "    TRIGGER_OUT = 0x60,\n",
    "\n",
    "    RESET_MASK = 0,\n",
    "\n",
    "    START_MASK = 0,\n",
    "    MEM_RESET_MASK = 1,\n",
    "    MEM_WRITE_MASK = 2,\n",
    "    MEM_READ_MASK = 3,\n",
    "\n",
    "    DONE_MASK = 0\n",
    ")"
   ]
  },
  {
   "cell_type": "markdown",
   "metadata": {},
   "source": [
    "Registers"
   ]
  },
  {
   "cell_type": "code",
   "execution_count": 4,
   "metadata": {},
   "outputs": [],
   "source": [
    "n_lines = 488\n",
    "t_exposure = 488 # in ticks\n",
    "n_frames = 1\n",
    "\n",
    "training_pattern = 0b1010101\n",
    "\n",
    "register_values = {\n",
    "    # number of lines\n",
    "    1: n_lines & 0xFF,\n",
    "    2: n_lines >> 8,\n",
    "\n",
    "    # color\n",
    "    #   0: color, 1: monochrome\n",
    "    39: 1,\n",
    "\n",
    "    # flipping\n",
    "    #   0: no, 1: flip x, 2: flip y, 3: flip x/y\n",
    "    40: 0,\n",
    "\n",
    "    # exposure mode\n",
    "    #   41[0]: 0: sequencer 42-44, 1: T_EXP1 and FRAME_REQ\n",
    "    #   41[1]: 0: normal, 1: interleaved\n",
    "    #41: 0,\n",
    "\n",
    "    # exposure time\n",
    "    #42: t_exposure & 0xFF,\n",
    "    #43: t_exposure >> 8,\n",
    "    #44: t_exposure >> 16,\n",
    "\n",
    "    # number of frames\n",
    "    55: n_frames & 0xFF,\n",
    "    56: n_frames >> 8,\n",
    "\n",
    "    # output mode\n",
    "    #   0: 4 outputs (LVDS), 2: 2 outputs (LVDS), 3: 1 output (LVDS or CMOS)\n",
    "    57: 3,\n",
    "\n",
    "    # training pattern\n",
    "    61: training_pattern & 0xFF,\n",
    "    62: (training_pattern >> 8) & 0x0F,\n",
    "\n",
    "    # test image\n",
    "    #   0: normal, 1: fixed test image\n",
    "    67: 0,\n",
    "\n",
    "    # 8/10/12 mode\n",
    "    #   0: 12, 1: 10, 2: 8\n",
    "    68: 1,\n",
    "\n",
    "    # clock out\n",
    "    #   0: dval, 1: lval, 2: fval, 6: fot, 7: inte1, 8: inte2, 9: clk_out\n",
    "    69: 9,\n",
    "\n",
    "    # gain\n",
    "    #   0-7: 1, 1.25, 1.5, 1.75, 2, 2.5, 3, 3.5\n",
    "    80: 0,\n",
    "\n",
    "    # power control\n",
    "    #   81[6]: control\n",
    "    #   81[5]: output clock\n",
    "    #   81[4-3]: top data output\n",
    "    #   81[2-1]: bottom data output\n",
    "    #   81[0]: lvds clock input\n",
    "    81: 0b1111110,\n",
    "\n",
    "    # data rate\n",
    "    #   155: 32-50 MHz, 187: 20-50 MHz, 251: 10-32 MHz\n",
    "    83: 155,\n",
    "\n",
    "    # adc gain\n",
    "    #   100[6]: enable\n",
    "    #   100[5-0]: gain\n",
    "    100: (1 << 6) | 32\n",
    "}"
   ]
  },
  {
   "cell_type": "code",
   "execution_count": 5,
   "metadata": {},
   "outputs": [
    {
     "name": "stdout",
     "output_type": "stream",
     "text": [
      "[2022-11-29 18:37:57,137] [INFO] upload firmware 'C:\\ytliu2\\ECE437\\Lab9\\Lab9.runs\\impl_1\\lab9_top.bit'\n",
      "[2022-11-29 18:37:57,337] [INFO] reset SPI controller\n",
      "[2022-11-29 18:37:57,339] [INFO] serial=1911000P3V\n",
      "[2022-11-29 18:37:57,368] [INFO] done\n"
     ]
    }
   ],
   "source": [
    "from ece437.spi import SPIController\n",
    "\n",
    "read_back = False\n",
    "\n",
    "with fp, SPIController(fp, SPI_ENDPOINTS) as spi:\n",
    "    logger.info(f\"serial={fp.serial_number}\")\n",
    "\n",
    "    # update all registers\n",
    "    for reg_addr, reg_val in register_values.items():\n",
    "        spi.write_to(reg_addr, [reg_val])\n",
    "\n",
    "    # read back\n",
    "    if read_back:\n",
    "        for reg_addr in range(128):\n",
    "            reg_val, = spi.read_from(reg_addr, 1)\n",
    "            print(f'reg[{reg_addr}]={reg_val} ({reg_val:>08b})')\n",
    "    \n",
    "    logger.info('done')"
   ]
  },
  {
   "cell_type": "code",
   "execution_count": 37,
   "metadata": {},
   "outputs": [
    {
     "name": "stdout",
     "output_type": "stream",
     "text": [
      "[2022-11-29 18:47:20,344] [INFO] upload firmware 'C:\\ytliu2\\ECE437\\Lab9\\Lab9.runs\\impl_1\\lab9_top.bit'\n",
      "[2022-11-29 18:47:20,540] [INFO] reset\n",
      "[2022-11-29 18:47:20,541] [INFO] request frame\n",
      "[2022-11-29 18:47:20,542] [INFO] start transfer\n",
      "[2022-11-29 18:47:20,545] [INFO] ret=315392\n"
     ]
    }
   ],
   "source": [
    "import matplotlib.pyplot as plt\n",
    "import numpy as np\n",
    "import time\n",
    "\n",
    "with fp:\n",
    "    dev = fp._device\n",
    "\n",
    "    # shape\n",
    "    nx, ny = (648, 488)\n",
    "    block_size = 1024\n",
    "    buf = bytearray(block_size * 308)\n",
    "\n",
    "    # reset fifo\n",
    "    logger.info('reset')\n",
    "    dev.SetWireInValue(0x00, 0xFF)\n",
    "    dev.UpdateWireIns()  \n",
    "    dev.SetWireInValue(0x00, 0)\n",
    "    dev.UpdateWireIns()\n",
    "\n",
    "    # start frame\n",
    "    logger.info('request frame')\n",
    "    dev.ActivateTriggerIn(0x41, 1 << 0)\n",
    "\n",
    "    # wait frame done\n",
    "    ready = False\n",
    "    #while not ready:\n",
    "    #    dev.UpdateTriggerOuts()\n",
    "    #    ready = dev.IsTriggered(0x61, 1 << 0)\n",
    "\n",
    "    # start pulling image from pipe\n",
    "    logger.info('start transfer')\n",
    "    n_bytes_read = dev.ReadFromBlockPipeOut(0xa0, 1024, buf)\n",
    "    logger.info(f'ret={n_bytes_read}')\n",
    "    \n",
    "    # trim\n",
    "    buf = buf[:nx * (ny-2)]\n",
    "    im = np.frombuffer(buf, dtype=np.uint8)\n",
    "    im = np.reshape(im, (ny-2, nx))"
   ]
  },
  {
   "cell_type": "code",
   "execution_count": 26,
   "metadata": {},
   "outputs": [
    {
     "name": "stdout",
     "output_type": "stream",
     "text": [
      "buf[:16]=bytearray(b'\\xde\\xad\\xbe\\xef\\xde\\xad\\xbe\\xef\\xde\\xad\\xbe\\xef\\xde\\xad\\xbe\\xef')\n"
     ]
    },
    {
     "data": {
      "image/png": "[encoded data removed]",
      "text/plain": [
       "<Figure size 432x288 with 1 Axes>"
      ]
     },
     "metadata": {
      "needs_background": "light"
     },
     "output_type": "display_data"
    }
   ],
   "source": [
    "plt.imshow(im, cmap='gray')\n",
    "plt.axis('tight')\n",
    "\n",
    "print(f'buf[:16]={buf[:16]}')"
   ]
  },
  {
   "cell_type": "code",
   "execution_count": null,
   "metadata": {},
   "outputs": [],
   "source": []
  }
 ],
 "metadata": {
  "kernelspec": {
   "display_name": "Python 3.6.13 ('ece437')",
   "language": "python",
   "name": "python3"
  },
  "language_info": {
   "codemirror_mode": {
    "name": "ipython",
    "version": 3
   },
   "file_extension": ".py",
   "mimetype": "text/x-python",
   "name": "python",
   "nbconvert_exporter": "python",
   "pygments_lexer": "ipython3",
   "version": "3.6.13"
  },
  "orig_nbformat": 4,
  "vscode": {
   "interpreter": {
    "hash": "c0795019bdcfb1e9ca0354a5177e3fd16cf4a3e7f7c298fc5362189d5f7812d8"
   }
  }
 },
 "nbformat": 4,
 "nbformat_minor": 2
}
