{
 "cells": [
  {
   "cell_type": "code",
   "execution_count": 1,
   "metadata": {},
   "outputs": [],
   "source": [
    "import logging\n",
    "\n",
    "logger = logging.getLogger()\n",
    "logger.handlers.clear()\n",
    "\n",
    "# format\n",
    "formatter = logging.Formatter('[%(asctime)s] [%(levelname)s] %(message)s')\n",
    "\n",
    "# add stream handler\n",
    "handler = logging.StreamHandler(sys.stdout)                             \n",
    "handler.setFormatter(formatter)\n",
    "logger.addHandler(handler)\n",
    "\n",
    "# enable all logging level\n",
    "logger.setLevel(logging.INFO)"
   ]
  },
  {
   "cell_type": "code",
   "execution_count": 2,
   "metadata": {},
   "outputs": [],
   "source": [
    "import os\n",
    "os.environ['OKFP_ROOT'] = 'C:/Users/sean9/Downloads/FrontPanelUSB'"
   ]
  },
  {
   "cell_type": "markdown",
   "metadata": {},
   "source": [
    "Definition for the board."
   ]
  },
  {
   "cell_type": "code",
   "execution_count": 3,
   "metadata": {},
   "outputs": [],
   "source": [
    "from ece437.ok import OKFrontPanel\n",
    "\n",
    "path = \"C:/Users/sean9/ECE437/Final/Final.runs/impl_1/final_top.bit\"\n",
    "fp = OKFrontPanel(firmware_path=path)"
   ]
  },
  {
   "cell_type": "markdown",
   "metadata": {},
   "source": [
    "Start talking to CMV300."
   ]
  },
  {
   "cell_type": "code",
   "execution_count": 4,
   "metadata": {},
   "outputs": [],
   "source": [
    "from ece437.spi import SPIControllerEndpoints\n",
    "from ece437.sensor.cmv300 import CMV300Endpoints\n",
    "\n",
    "SPI_ENDPOINTS = SPIControllerEndpoints(\n",
    "    RESET = 0x00,\n",
    "    DATA_IN = 0x01,\n",
    "    DATA_OUT = 0x20,\n",
    "    TRIGGER_IN = 0x40,\n",
    "    TRIGGER_OUT = 0x60,\n",
    "\n",
    "    RESET_MASK = 0,\n",
    "\n",
    "    START_MASK = 0,\n",
    "    MEM_RESET_MASK = 1,\n",
    "    MEM_WRITE_MASK = 2,\n",
    "    MEM_READ_MASK = 3,\n",
    "\n",
    "    DONE_MASK = 0\n",
    ")\n",
    "\n",
    "CMV300_ENDPOINTS = CMV300Endpoints(\n",
    "    RESET = 0x00,\n",
    "    TRIGGER_IN = 0x41,\n",
    "    TRIGGER_OUT = 0x61,\n",
    "    PIPE = 0xA0,\n",
    "\n",
    "    RESET_MASK = 1,\n",
    "\n",
    "    START_MASK = 0,\n",
    "\n",
    "    DONE_MASK = 0\n",
    ")"
   ]
  },
  {
   "cell_type": "markdown",
   "metadata": {},
   "source": [
    "Registers"
   ]
  },
  {
   "cell_type": "code",
   "execution_count": 10,
   "metadata": {},
   "outputs": [
    {
     "name": "stdout",
     "output_type": "stream",
     "text": [
      "[2022-12-12 01:33:01,297] [INFO] reset SPI controller\n",
      "[2022-12-12 01:33:01,304] [INFO] serial=1911000P3V\n",
      "[2022-12-12 01:33:11,317] [INFO] ret=-2\n"
     ]
    },
    {
     "data": {
      "image/png": "[encoded data removed]",
      "text/plain": [
       "<Figure size 432x288 with 1 Axes>"
      ]
     },
     "metadata": {
      "needs_background": "light"
     },
     "output_type": "display_data"
    }
   ],
   "source": [
    "from ece437.spi import SPIController\n",
    "from ece437.sensor.cmv300 import CMV300\n",
    "import matplotlib.pyplot as plt\n",
    "\n",
    "spi = SPIController(fp, SPI_ENDPOINTS)\n",
    "camera = CMV300(fp, spi, CMV300_ENDPOINTS)\n",
    "\n",
    "with fp, spi, camera:\n",
    "    logger.info(f\"serial={fp.serial_number}\")\n",
    "\n",
    "    im = camera.get_image()\n",
    "\n",
    "plt.imshow(im, cmap='gray')\n",
    "plt.axis('tight');"
   ]
  },
  {
   "cell_type": "code",
   "execution_count": null,
   "metadata": {},
   "outputs": [],
   "source": []
  }
 ],
 "metadata": {
  "kernelspec": {
   "display_name": "ece437",
   "language": "python",
   "name": "python3"
  },
  "language_info": {
   "codemirror_mode": {
    "name": "ipython",
    "version": 3
   },
   "file_extension": ".py",
   "mimetype": "text/x-python",
   "name": "python",
   "nbconvert_exporter": "python",
   "pygments_lexer": "ipython3",
   "version": "3.6.13"
  },
  "orig_nbformat": 4,
  "vscode": {
   "interpreter": {
    "hash": "ee34003efc2503a67c52c89b2fdb3d796742a94265386e2683a8bfa66ae2ae5e"
   }
  }
 },
 "nbformat": 4,
 "nbformat_minor": 2
}
