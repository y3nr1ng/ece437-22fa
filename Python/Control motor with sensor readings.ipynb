{
 "cells": [
  {
   "cell_type": "code",
   "execution_count": 1,
   "metadata": {},
   "outputs": [],
   "source": [
    "import logging\n",
    "\n",
    "logger = logging.getLogger()\n",
    "logger.handlers.clear()\n",
    "\n",
    "# format\n",
    "formatter = logging.Formatter('[%(asctime)s] [%(levelname)s] %(message)s')\n",
    "\n",
    "# add stream handler\n",
    "handler = logging.StreamHandler(sys.stdout)                             \n",
    "handler.setFormatter(formatter)\n",
    "logger.addHandler(handler)\n",
    "\n",
    "# enable all logging level\n",
    "logger.setLevel(logging.WARNING)"
   ]
  },
  {
   "cell_type": "markdown",
   "metadata": {},
   "source": [
    "Definition for the board."
   ]
  },
  {
   "cell_type": "code",
   "execution_count": 2,
   "metadata": {},
   "outputs": [],
   "source": [
    "import os\n",
    "\n",
    "os.environ[\"OKFP_ROOT\"] = \"C:/Users/sean9/Downloads/FrontPanelUSB\"\n",
    "\n",
    "from ece437.ok import OKFrontPanel\n",
    "\n",
    "path = \"C:/Users/sean9/ECE437/Final/Final.runs/impl_1/final_top.bit\"\n",
    "fp = OKFrontPanel(firmware_path=path)"
   ]
  },
  {
   "cell_type": "markdown",
   "metadata": {},
   "source": [
    "Start control DRV8833 over PMOD port 1."
   ]
  },
  {
   "cell_type": "code",
   "execution_count": 3,
   "metadata": {},
   "outputs": [
    {
     "name": "stdout",
     "output_type": "stream",
     "text": [
      "[2022-12-15 15:13:27,275] [WARNING] trial 1\n",
      "[2022-12-15 15:13:29,673] [WARNING] trial 2\n",
      "[2022-12-15 15:13:30,273] [WARNING] trial 3\n",
      "[2022-12-15 15:13:30,868] [WARNING] trial 4\n",
      "[2022-12-15 15:13:31,458] [WARNING] trial 5\n",
      "[2022-12-15 15:13:32,053] [WARNING] trial 6\n",
      "[2022-12-15 15:13:32,649] [WARNING] trial 7\n",
      "[2022-12-15 15:13:33,244] [WARNING] trial 8\n",
      "[2022-12-15 15:13:33,837] [WARNING] trial 9\n",
      "[2022-12-15 15:13:34,428] [WARNING] trial 10\n",
      "avg=[1.43   0.3096 0.8324]\n",
      "std=[0.1419211  0.1163058  0.28830234]\n"
     ]
    }
   ],
   "source": [
    "from ece437.presets import I2C_1_ENDPOINTS, PMOD_1_ENDPOINTS\n",
    "from ece437.i2c import I2CController\n",
    "from ece437.sensor import LSM303Accelerometer, LSM303Magnetometer\n",
    "from ece437.pmod import PMOD, PMODType5Endpoints, PMODDirection\n",
    "import time\n",
    "import numpy as np\n",
    "\n",
    "with fp:\n",
    "    logger.info(f\"serial={fp.serial_number}\")\n",
    "\n",
    "    with I2CController(fp, I2C_1_ENDPOINTS) as i2c1:\n",
    "        acc = LSM303Accelerometer(i2c1)\n",
    "        acc.configure() # defaults\n",
    "\n",
    "        mag = LSM303Magnetometer(i2c1)\n",
    "        mag.configure() # defaults\n",
    "\n",
    "        n_measurements = 100\n",
    "        n_repeats = 10\n",
    "\n",
    "        acc_max_hist = []\n",
    "\n",
    "        for i in range(n_repeats):\n",
    "            logger.warning(f'trial {i+1}')\n",
    "            acc_hist = []\n",
    "\n",
    "            with PMOD(fp, PMOD_1_ENDPOINTS) as pmod:\n",
    "                logger.info('reset')\n",
    "                pmod.start(2000, PMODDirection.Forward, block=True)\n",
    "\n",
    "                logger.info('start moving')\n",
    "                pmod.start(200, PMODDirection.Reverse)\n",
    "                logger.info('start recording')\n",
    "                for i in range(n_measurements):\n",
    "                    acc_hist.append(acc.read())\n",
    "\n",
    "            acc_hist = np.array(acc_hist)\n",
    "\n",
    "            acc_max = abs(acc_hist).max(axis=0)\n",
    "            acc_max_hist.append(acc_max)\n",
    "        \n",
    "        acc_max_hist = np.array(acc_max_hist)\n",
    "        print(f'avg={acc_max_hist.mean(axis=0)}')\n",
    "        print(f'std={acc_max_hist.std(axis=0)}')\n",
    "        "
   ]
  },
  {
   "cell_type": "code",
   "execution_count": null,
   "metadata": {},
   "outputs": [],
   "source": []
  }
 ],
 "metadata": {
  "kernelspec": {
   "display_name": "ece437",
   "language": "python",
   "name": "python3"
  },
  "language_info": {
   "codemirror_mode": {
    "name": "ipython",
    "version": 3
   },
   "file_extension": ".py",
   "mimetype": "text/x-python",
   "name": "python",
   "nbconvert_exporter": "python",
   "pygments_lexer": "ipython3",
   "version": "3.6.13"
  },
  "orig_nbformat": 4,
  "vscode": {
   "interpreter": {
    "hash": "ee34003efc2503a67c52c89b2fdb3d796742a94265386e2683a8bfa66ae2ae5e"
   }
  }
 },
 "nbformat": 4,
 "nbformat_minor": 2
}
