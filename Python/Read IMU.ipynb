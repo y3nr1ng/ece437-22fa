{
 "cells": [
  {
   "cell_type": "code",
   "execution_count": 1,
   "metadata": {},
   "outputs": [],
   "source": [
    "import logging\n",
    "\n",
    "logger = logging.getLogger()\n",
    "\n",
    "# format\n",
    "formatter = logging.Formatter('[%(asctime)s] [%(levelname)s] %(message)s')\n",
    "\n",
    "# add stream handler\n",
    "handler = logging.StreamHandler(sys.stdout)                             \n",
    "handler.setFormatter(formatter)\n",
    "logger.addHandler(handler)\n",
    "\n",
    "# enable all logging level\n",
    "logger.setLevel(logging.INFO)"
   ]
  },
  {
   "cell_type": "markdown",
   "metadata": {},
   "source": [
    "Definition for the board."
   ]
  },
  {
   "cell_type": "code",
   "execution_count": 2,
   "metadata": {},
   "outputs": [],
   "source": [
    "import os\n",
    "\n",
    "os.environ[\"OKFP_ROOT\"] = \"C:/Users/sean9/Downloads/FrontPanelUSB\"\n",
    "\n",
    "from ece437.ok import OKFrontPanel\n",
    "\n",
    "path = \"C:/Users/sean9/ECE437/Final/Final.runs/impl_1/final_top.bit\"\n",
    "fp = OKFrontPanel(firmware_path=path)"
   ]
  },
  {
   "attachments": {},
   "cell_type": "markdown",
   "metadata": {},
   "source": [
    "Start talking to LSM303. Benchmark speed."
   ]
  },
  {
   "cell_type": "code",
   "execution_count": 3,
   "metadata": {},
   "outputs": [
    {
     "name": "stdout",
     "output_type": "stream",
     "text": [
      "[2022-12-15 15:35:30,905] [INFO] found 1 devices on this system\n",
      "[2022-12-15 15:35:30,911] [INFO] upload firmware 'C:/Users/sean9/ECE437/Final/Final.runs/impl_1/final_top.bit'\n",
      "serial=1911000P3V\n",
      "[2022-12-15 15:35:31,461] [INFO] t_sensor=397.102 ms\n"
     ]
    }
   ],
   "source": [
    "from ece437.presets import I2C_1_ENDPOINTS\n",
    "from ece437.i2c import I2CController\n",
    "from ece437.sensor import LSM303Accelerometer, LSM303Magnetometer\n",
    "from IPython.display import clear_output\n",
    "import time\n",
    "from datetime import datetime\n",
    "\n",
    "with fp, I2CController(fp, I2C_1_ENDPOINTS) as i2c1:\n",
    "    print(f\"serial={fp.serial_number}\")\n",
    "\n",
    "    acc = LSM303Accelerometer(i2c1)\n",
    "    acc.configure() # defaults\n",
    "\n",
    "    mag = LSM303Magnetometer(i2c1)\n",
    "    mag.configure() # defaults\n",
    "\n",
    "    t0 = datetime.now()\n",
    "\n",
    "    for _ in range(100):\n",
    "        x, y, z = acc.read()\n",
    "        #print(f'ACC: x={x:.03f}, y={y:.03f}, z={z:.03f}')\n",
    "\n",
    "        #x, y, z = mag.read()\n",
    "        #print(f'MAG: x={x:.03f}, y={y:.03f}, z={z:.03f}')    \n",
    "\n",
    "        #clear_output(wait=True)\n",
    "    t1 = datetime.now()\n",
    "\n",
    "    delta = t1 - t0\n",
    "    dt = delta.total_seconds() * 1000\n",
    "    logger.info(f't_sensor={dt:.3f} ms')"
   ]
  },
  {
   "attachments": {},
   "cell_type": "markdown",
   "metadata": {},
   "source": [
    "Acquire noise dataset."
   ]
  },
  {
   "cell_type": "code",
   "execution_count": 22,
   "metadata": {},
   "outputs": [
    {
     "name": "stdout",
     "output_type": "stream",
     "text": [
      "[2022-12-15 15:43:56,239] [INFO] found 1 devices on this system\n",
      "[2022-12-15 15:43:56,247] [INFO] upload firmware 'C:/Users/sean9/ECE437/Final/Final.runs/impl_1/final_top.bit'\n",
      "serial=1911000P3V\n"
     ]
    }
   ],
   "source": [
    "from ece437.presets import I2C_1_ENDPOINTS\n",
    "from ece437.i2c import I2CController\n",
    "from ece437.sensor import LSM303Accelerometer, LSM303Magnetometer\n",
    "from IPython.display import clear_output\n",
    "import time\n",
    "from datetime import datetime\n",
    "import numpy as np\n",
    "with fp, I2CController(fp, I2C_1_ENDPOINTS) as i2c1:\n",
    "    print(f\"serial={fp.serial_number}\")\n",
    "\n",
    "    acc = LSM303Accelerometer(i2c1)\n",
    "    acc.configure() # defaults\n",
    "\n",
    "    mag = LSM303Magnetometer(i2c1)\n",
    "    mag.configure() # defaults\n",
    "\n",
    "    t_hist = []\n",
    "    acc_hist = []\n",
    "    mag_hist = []\n",
    "    for _ in range(1000):\n",
    "        t_hist.append(datetime.now())\n",
    "        acc_hist.append(acc.read())\n",
    "        mag_hist.append(mag.read())\n",
    "\n",
    "    # convert timestamp to millisecond\n",
    "    t_hist = [t.timestamp() * 1000 for t in t_hist]\n",
    "    t0 = t_hist[0]\n",
    "    t_hist = [t - t0 for t in t_hist]\n",
    "\n",
    "    t_hist = np.array(t_hist)\n",
    "    acc_hist = np.array(acc_hist)\n",
    "    mag_hist = np.array(mag_hist)\n",
    "\n",
    "    data = np.hstack([t_hist[:, np.newaxis], acc_hist, mag_hist])"
   ]
  },
  {
   "cell_type": "code",
   "execution_count": 23,
   "metadata": {},
   "outputs": [],
   "source": [
    "np.savetxt(\"sensor_noise.csv\", data, delimiter=\",\")"
   ]
  },
  {
   "cell_type": "code",
   "execution_count": null,
   "metadata": {},
   "outputs": [],
   "source": []
  }
 ],
 "metadata": {
  "kernelspec": {
   "display_name": "ece437",
   "language": "python",
   "name": "python3"
  },
  "language_info": {
   "codemirror_mode": {
    "name": "ipython",
    "version": 3
   },
   "file_extension": ".py",
   "mimetype": "text/x-python",
   "name": "python",
   "nbconvert_exporter": "python",
   "pygments_lexer": "ipython3",
   "version": "3.6.13"
  },
  "orig_nbformat": 4,
  "vscode": {
   "interpreter": {
    "hash": "ee34003efc2503a67c52c89b2fdb3d796742a94265386e2683a8bfa66ae2ae5e"
   }
  }
 },
 "nbformat": 4,
 "nbformat_minor": 2
}
