{
 "cells": [
  {
   "cell_type": "code",
   "execution_count": 1,
   "metadata": {},
   "outputs": [],
   "source": [
    "import logging\n",
    "\n",
    "logger = logging.getLogger()\n",
    "\n",
    "# format\n",
    "formatter = logging.Formatter('[%(asctime)s] [%(levelname)s] %(message)s')\n",
    "\n",
    "# add stream handler\n",
    "handler = logging.StreamHandler(sys.stdout)                             \n",
    "handler.setFormatter(formatter)\n",
    "logger.addHandler(handler)\n",
    "\n",
    "# enable all logging level\n",
    "logger.setLevel(logging.INFO)"
   ]
  },
  {
   "cell_type": "markdown",
   "metadata": {},
   "source": [
    "Definition for the board."
   ]
  },
  {
   "cell_type": "code",
   "execution_count": 2,
   "metadata": {},
   "outputs": [],
   "source": [
    "from ece437.ok import OKFrontPanel\n",
    "\n",
    "path = \"C:\\\\ytliu2\\\\ECE437\\\\Lab7\\\\Lab7.runs\\\\impl_1\\\\lab7_top.bit\"\n",
    "fp = OKFrontPanel(firmware_path=path)"
   ]
  },
  {
   "cell_type": "markdown",
   "metadata": {},
   "source": [
    "Start control DRV8833 over PMOD port 1."
   ]
  },
  {
   "cell_type": "code",
   "execution_count": 3,
   "metadata": {},
   "outputs": [
    {
     "name": "stdout",
     "output_type": "stream",
     "text": [
      "[2022-11-01 18:36:42,558] [INFO] upload firmware 'C:\\ytliu2\\ECE437\\Lab7\\Lab7.runs\\impl_1\\lab7_top.bit'\n",
      "serial=1911000P3V\n",
      "forward\n",
      "[2022-11-01 18:36:42,748] [INFO] control_reg=00000000000000000000000001100100\n",
      "reverse\n",
      "[2022-11-01 18:36:43,764] [INFO] control_reg=10000000000000000000000001100100\n",
      "forward\n",
      "[2022-11-01 18:36:44,774] [INFO] control_reg=00000000000000000000000001100100\n",
      "reverse\n",
      "[2022-11-01 18:36:45,788] [INFO] control_reg=10000000000000000000000001100100\n",
      "forward\n",
      "[2022-11-01 18:36:46,801] [INFO] control_reg=00000000000000000000000001100100\n",
      "reverse\n",
      "[2022-11-01 18:36:47,816] [INFO] control_reg=10000000000000000000000001100100\n",
      "forward\n",
      "[2022-11-01 18:36:48,831] [INFO] control_reg=00000000000000000000000001100100\n",
      "reverse\n",
      "[2022-11-01 18:36:49,838] [INFO] control_reg=10000000000000000000000001100100\n",
      "forward\n",
      "[2022-11-01 18:36:50,841] [INFO] control_reg=00000000000000000000000001100100\n",
      "reverse\n",
      "[2022-11-01 18:36:51,850] [INFO] control_reg=10000000000000000000000001100100\n",
      "forward\n",
      "[2022-11-01 18:36:52,864] [INFO] control_reg=00000000000000000000000001100100\n",
      "reverse\n",
      "[2022-11-01 18:36:53,867] [INFO] control_reg=10000000000000000000000001100100\n",
      "forward\n",
      "[2022-11-01 18:36:54,883] [INFO] control_reg=00000000000000000000000001100100\n",
      "reverse\n",
      "[2022-11-01 18:36:55,898] [INFO] control_reg=10000000000000000000000001100100\n",
      "forward\n",
      "[2022-11-01 18:36:56,911] [INFO] control_reg=00000000000000000000000001100100\n",
      "reverse\n",
      "[2022-11-01 18:36:57,927] [INFO] control_reg=10000000000000000000000001100100\n",
      "forward\n",
      "[2022-11-01 18:36:58,929] [INFO] control_reg=00000000000000000000000001100100\n",
      "reverse\n",
      "[2022-11-01 18:36:59,933] [INFO] control_reg=10000000000000000000000001100100\n",
      "forward\n",
      "[2022-11-01 18:37:00,942] [INFO] control_reg=00000000000000000000000001100100\n"
     ]
    },
    {
     "ename": "KeyboardInterrupt",
     "evalue": "",
     "output_type": "error",
     "traceback": [
      "\u001b[1;31m---------------------------------------------------------------------------\u001b[0m",
      "\u001b[1;31mKeyboardInterrupt\u001b[0m                         Traceback (most recent call last)",
      "\u001b[1;32m<ipython-input-3-90e75e0f94d3>\u001b[0m in \u001b[0;36m<module>\u001b[1;34m\u001b[0m\n\u001b[0;32m     21\u001b[0m         \u001b[0mpmod\u001b[0m\u001b[1;33m.\u001b[0m\u001b[0mstart\u001b[0m\u001b[1;33m(\u001b[0m\u001b[1;36m100\u001b[0m\u001b[1;33m,\u001b[0m \u001b[0mPMODDirection\u001b[0m\u001b[1;33m.\u001b[0m\u001b[0mForward\u001b[0m\u001b[1;33m)\u001b[0m\u001b[1;33m\u001b[0m\u001b[1;33m\u001b[0m\u001b[0m\n\u001b[0;32m     22\u001b[0m \u001b[1;33m\u001b[0m\u001b[0m\n\u001b[1;32m---> 23\u001b[1;33m         \u001b[0mtime\u001b[0m\u001b[1;33m.\u001b[0m\u001b[0msleep\u001b[0m\u001b[1;33m(\u001b[0m\u001b[1;36m1\u001b[0m\u001b[1;33m)\u001b[0m\u001b[1;33m\u001b[0m\u001b[1;33m\u001b[0m\u001b[0m\n\u001b[0m\u001b[0;32m     24\u001b[0m \u001b[1;33m\u001b[0m\u001b[0m\n\u001b[0;32m     25\u001b[0m         \u001b[0mprint\u001b[0m\u001b[1;33m(\u001b[0m\u001b[1;34m'reverse'\u001b[0m\u001b[1;33m)\u001b[0m\u001b[1;33m\u001b[0m\u001b[1;33m\u001b[0m\u001b[0m\n",
      "\u001b[1;31mKeyboardInterrupt\u001b[0m: "
     ]
    }
   ],
   "source": [
    "from ece437.pmod import PMOD, PMODType5Endpoints, PMODDirection\n",
    "import time\n",
    "\n",
    "PMOD_1_ENDPOINTS = PMODType5Endpoints(\n",
    "    RESET = 0x00,\n",
    "    CONTROL = 0x03,\n",
    "    TRIGGER_IN = 0x41,\n",
    "    TRIGGER_OUT = 0x60,\n",
    "\n",
    "    RESET_MASK = 2,\n",
    "\n",
    "    START_MASK = 0,\n",
    "    DONE_MASK = 2\n",
    ")\n",
    "\n",
    "with fp, PMOD(fp, PMOD_1_ENDPOINTS) as pmod:\n",
    "    print(f\"serial={fp.serial_number}\")\n",
    "\n",
    "    while True:\n",
    "        print('forward')\n",
    "        pmod.start(100, PMODDirection.Forward)\n",
    "\n",
    "        time.sleep(1)\n",
    "\n",
    "        print('reverse')\n",
    "        pmod.start(100, PMODDirection.Reverse)\n",
    "\n",
    "        time.sleep(1)"
   ]
  },
  {
   "cell_type": "code",
   "execution_count": null,
   "metadata": {},
   "outputs": [],
   "source": []
  }
 ],
 "metadata": {
  "kernelspec": {
   "display_name": "Python 3.6.13 ('ece437')",
   "language": "python",
   "name": "python3"
  },
  "language_info": {
   "codemirror_mode": {
    "name": "ipython",
    "version": 3
   },
   "file_extension": ".py",
   "mimetype": "text/x-python",
   "name": "python",
   "nbconvert_exporter": "python",
   "pygments_lexer": "ipython3",
   "version": "3.6.13"
  },
  "orig_nbformat": 4,
  "vscode": {
   "interpreter": {
    "hash": "c0795019bdcfb1e9ca0354a5177e3fd16cf4a3e7f7c298fc5362189d5f7812d8"
   }
  }
 },
 "nbformat": 4,
 "nbformat_minor": 2
}
