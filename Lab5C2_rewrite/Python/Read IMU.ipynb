{
 "cells": [
  {
   "cell_type": "code",
   "execution_count": 1,
   "metadata": {},
   "outputs": [],
   "source": [
    "import logging\n",
    "\n",
    "logger = logging.getLogger()\n",
    "\n",
    "# format\n",
    "formatter = logging.Formatter('[%(asctime)s] [%(levelname)s] %(message)s')\n",
    "\n",
    "# add stream handler\n",
    "handler = logging.StreamHandler(sys.stdout)                             \n",
    "handler.setFormatter(formatter)\n",
    "logger.addHandler(handler)\n",
    "\n",
    "# enable all logging level\n",
    "logger.setLevel(logging.INFO)"
   ]
  },
  {
   "cell_type": "markdown",
   "metadata": {},
   "source": [
    "Definition for the board."
   ]
  },
  {
   "cell_type": "code",
   "execution_count": 2,
   "metadata": {},
   "outputs": [],
   "source": [
    "from ece437.ok import OKFrontPanel\n",
    "\n",
    "path = \"U:\\\\ECE437\\\\Source\\\\Lab5C2_rewrite\\\\Lab5C2.runs\\\\impl_1\\\\lab5_top.bit\"\n",
    "fp = OKFrontPanel(firmware_path=path)"
   ]
  },
  {
   "cell_type": "markdown",
   "metadata": {},
   "source": [
    "Start talking to LSM303."
   ]
  },
  {
   "cell_type": "code",
   "execution_count": 3,
   "metadata": {},
   "outputs": [
    {
     "name": "stdout",
     "output_type": "stream",
     "text": [
      "[2022-10-17 18:33:52,109] [INFO] upload firmware 'U:\\ECE437\\Source\\Lab5C2_rewrite\\Lab5C2.runs\\impl_1\\lab5_top.bit'\n",
      "serial=1911000P4W\n",
      "before, CTRL_REG1_A=0b0\n",
      "after, CTRL_REG1_A=0b0\n",
      "before, CTRL_REG1_A=0b0\n",
      "after, CTRL_REG1_A=0b0\n",
      "before, CTRL_REG1_A=0b0\n",
      "after, CTRL_REG1_A=0b0\n",
      "before, CTRL_REG1_A=0b0\n",
      "after, CTRL_REG1_A=0b0\n",
      "before, CTRL_REG1_A=0b0\n",
      "after, CTRL_REG1_A=0b0\n"
     ]
    }
   ],
   "source": [
    "from ece437.presets import I2C_1_ENDPOINTS\n",
    "from ece437.i2c import I2CController\n",
    "from ece437.sensor import LSM303Accelerometer\n",
    "import time\n",
    "\n",
    "with fp, I2CController(fp, I2C_1_ENDPOINTS) as i2c1:\n",
    "    print(f\"serial={fp.serial_number}\")\n",
    "\n",
    "    sensor = LSM303Accelerometer(i2c1)"
   ]
  },
  {
   "cell_type": "code",
   "execution_count": null,
   "metadata": {},
   "outputs": [],
   "source": []
  }
 ],
 "metadata": {
  "kernelspec": {
   "display_name": "Python 3.6.13 ('ece437')",
   "language": "python",
   "name": "python3"
  },
  "language_info": {
   "codemirror_mode": {
    "name": "ipython",
    "version": 3
   },
   "file_extension": ".py",
   "mimetype": "text/x-python",
   "name": "python",
   "nbconvert_exporter": "python",
   "pygments_lexer": "ipython3",
   "version": "3.6.13"
  },
  "orig_nbformat": 4,
  "vscode": {
   "interpreter": {
    "hash": "ca22d97047fb192b166683963a624a3b1484bf7794bcb26b8860648fa7cb4af4"
   }
  }
 },
 "nbformat": 4,
 "nbformat_minor": 2
}
